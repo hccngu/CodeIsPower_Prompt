{
 "cells": [
  {
   "cell_type": "code",
   "execution_count": 1,
   "id": "22fcb0aa-08f5-4707-8d9a-2033db9164e5",
   "metadata": {},
   "outputs": [],
   "source": [
    "# check data balance"
   ]
  },
  {
   "cell_type": "code",
   "execution_count": 2,
   "id": "79d9af3f-61e4-4a00-baa6-8d53fc99b31e",
   "metadata": {},
   "outputs": [],
   "source": [
    "import numpy as np\n",
    "import pandas as pd\n"
   ]
  },
  {
   "cell_type": "code",
   "execution_count": 7,
   "id": "28bb6315-3cb6-4445-b770-8462c52efd37",
   "metadata": {},
   "outputs": [
    {
     "name": "stdout",
     "output_type": "stream",
     "text": [
      "/Users/qiushisun/GitHub-Repos/CodeIsPower_Prompt/data_probing\n"
     ]
    }
   ],
   "source": [
    "!pwd"
   ]
  },
  {
   "cell_type": "code",
   "execution_count": 22,
   "id": "18e677fe-4b6a-4ab8-b3ba-01ae602d6b8d",
   "metadata": {},
   "outputs": [],
   "source": [
    "train = pd.read_csv('../datasets/SNLI/13/train.tsv', sep='\\t', header = None, names=['s1','s2','label'])"
   ]
  },
  {
   "cell_type": "code",
   "execution_count": 24,
   "id": "bb69c617-1f0d-4114-a657-641b396340a1",
   "metadata": {},
   "outputs": [
    {
     "data": {
      "text/html": [
       "<div>\n",
       "<style scoped>\n",
       "    .dataframe tbody tr th:only-of-type {\n",
       "        vertical-align: middle;\n",
       "    }\n",
       "\n",
       "    .dataframe tbody tr th {\n",
       "        vertical-align: top;\n",
       "    }\n",
       "\n",
       "    .dataframe thead th {\n",
       "        text-align: right;\n",
       "    }\n",
       "</style>\n",
       "<table border=\"1\" class=\"dataframe\">\n",
       "  <thead>\n",
       "    <tr style=\"text-align: right;\">\n",
       "      <th></th>\n",
       "      <th>s1</th>\n",
       "      <th>s2</th>\n",
       "      <th>label</th>\n",
       "    </tr>\n",
       "  </thead>\n",
       "  <tbody>\n",
       "    <tr>\n",
       "      <th>0</th>\n",
       "      <td>a man is behind a cart trying to sell various ...</td>\n",
       "      <td>A man sells fruits from a cart.</td>\n",
       "      <td>Neutral</td>\n",
       "    </tr>\n",
       "    <tr>\n",
       "      <th>1</th>\n",
       "      <td>A large brown dog is jumping into the ocean.</td>\n",
       "      <td>The cat is jumping into the lake.</td>\n",
       "      <td>Contradiction</td>\n",
       "    </tr>\n",
       "    <tr>\n",
       "      <th>2</th>\n",
       "      <td>A black and tan dog in a orange jacket laying ...</td>\n",
       "      <td>The black and tan dog is out in the snow.</td>\n",
       "      <td>Entailment</td>\n",
       "    </tr>\n",
       "    <tr>\n",
       "      <th>3</th>\n",
       "      <td>A mother and a child are interacting in a retr...</td>\n",
       "      <td>A mother and child are communicating indoors.</td>\n",
       "      <td>Entailment</td>\n",
       "    </tr>\n",
       "    <tr>\n",
       "      <th>4</th>\n",
       "      <td>A man with his hands up in front of a table wi...</td>\n",
       "      <td>A surfer dude rests his hands on a buffet tabl...</td>\n",
       "      <td>Neutral</td>\n",
       "    </tr>\n",
       "  </tbody>\n",
       "</table>\n",
       "</div>"
      ],
      "text/plain": [
       "                                                  s1  \\\n",
       "0  a man is behind a cart trying to sell various ...   \n",
       "1       A large brown dog is jumping into the ocean.   \n",
       "2  A black and tan dog in a orange jacket laying ...   \n",
       "3  A mother and a child are interacting in a retr...   \n",
       "4  A man with his hands up in front of a table wi...   \n",
       "\n",
       "                                                  s2          label  \n",
       "0                    A man sells fruits from a cart.        Neutral  \n",
       "1                  The cat is jumping into the lake.  Contradiction  \n",
       "2          The black and tan dog is out in the snow.     Entailment  \n",
       "3      A mother and child are communicating indoors.     Entailment  \n",
       "4  A surfer dude rests his hands on a buffet tabl...        Neutral  "
      ]
     },
     "execution_count": 24,
     "metadata": {},
     "output_type": "execute_result"
    }
   ],
   "source": [
    "train.head()"
   ]
  },
  {
   "cell_type": "code",
   "execution_count": 26,
   "id": "af55a3c1-644a-497f-aba1-c512a0b829da",
   "metadata": {},
   "outputs": [],
   "source": [
    "label_type_counts = train.groupby(\"label\").label.value_counts()"
   ]
  },
  {
   "cell_type": "code",
   "execution_count": 27,
   "id": "28b5c148-1949-4a68-bfee-47e38b26a8b7",
   "metadata": {},
   "outputs": [
    {
     "data": {
      "text/plain": [
       "label          label        \n",
       "Contradiction  Contradiction    16\n",
       "Entailment     Entailment       16\n",
       "Neutral        Neutral          16\n",
       "Name: label, dtype: int64"
      ]
     },
     "execution_count": 27,
     "metadata": {},
     "output_type": "execute_result"
    }
   ],
   "source": [
    "label_type_counts"
   ]
  },
  {
   "cell_type": "code",
   "execution_count": 28,
   "id": "eab10eeb-939e-4c28-a993-0f1c4221a8ae",
   "metadata": {},
   "outputs": [],
   "source": [
    "train = pd.read_csv('../datasets/SNLI/42/train.tsv', sep='\\t', header = None, names=['s1','s2','label'])\n",
    "label_type_counts = train.groupby(\"label\").label.value_counts()"
   ]
  },
  {
   "cell_type": "code",
   "execution_count": 29,
   "id": "983ee8f2-2b6c-4eec-a860-425fa2d1623e",
   "metadata": {},
   "outputs": [
    {
     "data": {
      "text/plain": [
       "label          label        \n",
       "Contradiction  Contradiction    16\n",
       "Entailment     Entailment       16\n",
       "Neutral        Neutral          16\n",
       "Name: label, dtype: int64"
      ]
     },
     "execution_count": 29,
     "metadata": {},
     "output_type": "execute_result"
    }
   ],
   "source": [
    "label_type_counts"
   ]
  },
  {
   "cell_type": "code",
   "execution_count": 31,
   "id": "3517dd3e-52a6-451e-8fc3-63af7dc72d3c",
   "metadata": {},
   "outputs": [
    {
     "name": "stdout",
     "output_type": "stream",
     "text": [
      "<class 'pandas.core.frame.DataFrame'>\n",
      "RangeIndex: 48 entries, 0 to 47\n",
      "Data columns (total 3 columns):\n",
      " #   Column  Non-Null Count  Dtype \n",
      "---  ------  --------------  ----- \n",
      " 0   s1      48 non-null     object\n",
      " 1   s2      48 non-null     object\n",
      " 2   label   48 non-null     object\n",
      "dtypes: object(3)\n",
      "memory usage: 1.2+ KB\n"
     ]
    }
   ],
   "source": [
    "train.info()"
   ]
  },
  {
   "cell_type": "code",
   "execution_count": null,
   "id": "f0fafec2-6991-4280-aa0b-f0f9c43bcd79",
   "metadata": {},
   "outputs": [],
   "source": []
  }
 ],
 "metadata": {
  "kernelspec": {
   "display_name": "Python 3 (ipykernel)",
   "language": "python",
   "name": "python3"
  },
  "language_info": {
   "codemirror_mode": {
    "name": "ipython",
    "version": 3
   },
   "file_extension": ".py",
   "mimetype": "text/x-python",
   "name": "python",
   "nbconvert_exporter": "python",
   "pygments_lexer": "ipython3",
   "version": "3.10.6"
  }
 },
 "nbformat": 4,
 "nbformat_minor": 5
}
