{
 "cells": [
  {
   "cell_type": "code",
   "execution_count": 1,
   "id": "22fcb0aa-08f5-4707-8d9a-2033db9164e5",
   "metadata": {},
   "outputs": [],
   "source": [
    "# check data balance"
   ]
  },
  {
   "cell_type": "code",
   "execution_count": 2,
   "id": "79d9af3f-61e4-4a00-baa6-8d53fc99b31e",
   "metadata": {},
   "outputs": [],
   "source": [
    "import numpy as np\n",
    "import pandas as pd"
   ]
  },
  {
   "cell_type": "code",
   "execution_count": 3,
   "id": "28bb6315-3cb6-4445-b770-8462c52efd37",
   "metadata": {},
   "outputs": [
    {
     "name": "stdout",
     "output_type": "stream",
     "text": [
      "/Users/qiushisun/GitHub-Repos/CodeIsPower_Prompt/data_probing\n"
     ]
    }
   ],
   "source": [
    "!pwd"
   ]
  },
  {
   "cell_type": "code",
   "execution_count": 4,
   "id": "18e677fe-4b6a-4ab8-b3ba-01ae602d6b8d",
   "metadata": {},
   "outputs": [],
   "source": [
    "train = pd.read_csv('../datasets/MRPC/13/train.tsv', sep='\\t', header = None, names=['s1','s2','label'])"
   ]
  },
  {
   "cell_type": "code",
   "execution_count": 5,
   "id": "bb69c617-1f0d-4114-a657-641b396340a1",
   "metadata": {},
   "outputs": [
    {
     "data": {
      "text/html": [
       "<div>\n",
       "<style scoped>\n",
       "    .dataframe tbody tr th:only-of-type {\n",
       "        vertical-align: middle;\n",
       "    }\n",
       "\n",
       "    .dataframe tbody tr th {\n",
       "        vertical-align: top;\n",
       "    }\n",
       "\n",
       "    .dataframe thead th {\n",
       "        text-align: right;\n",
       "    }\n",
       "</style>\n",
       "<table border=\"1\" class=\"dataframe\">\n",
       "  <thead>\n",
       "    <tr style=\"text-align: right;\">\n",
       "      <th></th>\n",
       "      <th>s1</th>\n",
       "      <th>s2</th>\n",
       "      <th>label</th>\n",
       "    </tr>\n",
       "  </thead>\n",
       "  <tbody>\n",
       "    <tr>\n",
       "      <th>0</th>\n",
       "      <td>The court 's 1992 decision reaffirmed the basi...</td>\n",
       "      <td>In a 1992 case , the Supreme Court reaffirmed ...</td>\n",
       "      <td>Equivalent</td>\n",
       "    </tr>\n",
       "    <tr>\n",
       "      <th>1</th>\n",
       "      <td>Several cities are competing for the headquart...</td>\n",
       "      <td>But Miami is competing with eight other cities...</td>\n",
       "      <td>Equivalent</td>\n",
       "    </tr>\n",
       "    <tr>\n",
       "      <th>2</th>\n",
       "      <td>Feral 's group was behind a successful tourism...</td>\n",
       "      <td>Friends of Animals , which touts 200,000 membe...</td>\n",
       "      <td>Equivalent</td>\n",
       "    </tr>\n",
       "    <tr>\n",
       "      <th>3</th>\n",
       "      <td>After all , China isn 't racing anyoneso there...</td>\n",
       "      <td>After all , China isn ’ t racing anyone … so t...</td>\n",
       "      <td>Equivalent</td>\n",
       "    </tr>\n",
       "    <tr>\n",
       "      <th>4</th>\n",
       "      <td>So far , however , only four companies have li...</td>\n",
       "      <td>So far , only four companies have licensed Mic...</td>\n",
       "      <td>Equivalent</td>\n",
       "    </tr>\n",
       "  </tbody>\n",
       "</table>\n",
       "</div>"
      ],
      "text/plain": [
       "                                                  s1  \\\n",
       "0  The court 's 1992 decision reaffirmed the basi...   \n",
       "1  Several cities are competing for the headquart...   \n",
       "2  Feral 's group was behind a successful tourism...   \n",
       "3  After all , China isn 't racing anyoneso there...   \n",
       "4  So far , however , only four companies have li...   \n",
       "\n",
       "                                                  s2       label  \n",
       "0  In a 1992 case , the Supreme Court reaffirmed ...  Equivalent  \n",
       "1  But Miami is competing with eight other cities...  Equivalent  \n",
       "2  Friends of Animals , which touts 200,000 membe...  Equivalent  \n",
       "3  After all , China isn ’ t racing anyone … so t...  Equivalent  \n",
       "4  So far , only four companies have licensed Mic...  Equivalent  "
      ]
     },
     "execution_count": 5,
     "metadata": {},
     "output_type": "execute_result"
    }
   ],
   "source": [
    "train.head()"
   ]
  },
  {
   "cell_type": "code",
   "execution_count": 6,
   "id": "af55a3c1-644a-497f-aba1-c512a0b829da",
   "metadata": {},
   "outputs": [],
   "source": [
    "label_type_counts = train.groupby(\"label\").label.value_counts()"
   ]
  },
  {
   "cell_type": "code",
   "execution_count": 7,
   "id": "28b5c148-1949-4a68-bfee-47e38b26a8b7",
   "metadata": {},
   "outputs": [
    {
     "data": {
      "text/plain": [
       "label          label        \n",
       "Equivalent     Equivalent       12\n",
       "NotEquivalent  NotEquivalent    14\n",
       "Name: label, dtype: int64"
      ]
     },
     "execution_count": 7,
     "metadata": {},
     "output_type": "execute_result"
    }
   ],
   "source": [
    "label_type_counts"
   ]
  },
  {
   "cell_type": "code",
   "execution_count": 10,
   "id": "eab10eeb-939e-4c28-a993-0f1c4221a8ae",
   "metadata": {},
   "outputs": [],
   "source": [
    "train = pd.read_csv('../datasets/MRPC/42/train.tsv', sep='\\t', header = None, names=['s1','s2','label'])\n",
    "label_type_counts = train.groupby(\"label\").label.value_counts()"
   ]
  },
  {
   "cell_type": "code",
   "execution_count": 11,
   "id": "983ee8f2-2b6c-4eec-a860-425fa2d1623e",
   "metadata": {},
   "outputs": [
    {
     "data": {
      "text/plain": [
       "label          label        \n",
       "Equivalent     Equivalent       16\n",
       "NotEquivalent  NotEquivalent    16\n",
       "Name: label, dtype: int64"
      ]
     },
     "execution_count": 11,
     "metadata": {},
     "output_type": "execute_result"
    }
   ],
   "source": [
    "label_type_counts"
   ]
  },
  {
   "cell_type": "code",
   "execution_count": 13,
   "id": "6f021670-1af0-4894-aa28-049c85aeb71a",
   "metadata": {},
   "outputs": [],
   "source": [
    "train = pd.read_csv('../datasets/MRPC/60/train.tsv', sep='\\t', header = None, names=['s1','s2','label'])\n",
    "label_type_counts = train.groupby(\"label\").label.value_counts()"
   ]
  },
  {
   "cell_type": "code",
   "execution_count": 14,
   "id": "d498736d-8148-4c1c-8728-caf187301db8",
   "metadata": {},
   "outputs": [
    {
     "data": {
      "text/plain": [
       "label          label        \n",
       "Equivalent     Equivalent       16\n",
       "NotEquivalent  NotEquivalent    16\n",
       "Name: label, dtype: int64"
      ]
     },
     "execution_count": 14,
     "metadata": {},
     "output_type": "execute_result"
    }
   ],
   "source": [
    "label_type_counts"
   ]
  },
  {
   "cell_type": "code",
   "execution_count": 12,
   "id": "3517dd3e-52a6-451e-8fc3-63af7dc72d3c",
   "metadata": {},
   "outputs": [
    {
     "name": "stdout",
     "output_type": "stream",
     "text": [
      "<class 'pandas.core.frame.DataFrame'>\n",
      "RangeIndex: 32 entries, 0 to 31\n",
      "Data columns (total 3 columns):\n",
      " #   Column  Non-Null Count  Dtype \n",
      "---  ------  --------------  ----- \n",
      " 0   s1      32 non-null     object\n",
      " 1   s2      32 non-null     object\n",
      " 2   label   32 non-null     object\n",
      "dtypes: object(3)\n",
      "memory usage: 896.0+ bytes\n"
     ]
    }
   ],
   "source": [
    "train.info()"
   ]
  },
  {
   "cell_type": "code",
   "execution_count": null,
   "id": "f0fafec2-6991-4280-aa0b-f0f9c43bcd79",
   "metadata": {},
   "outputs": [],
   "source": []
  }
 ],
 "metadata": {
  "kernelspec": {
   "display_name": "Python 3 (ipykernel)",
   "language": "python",
   "name": "python3"
  },
  "language_info": {
   "codemirror_mode": {
    "name": "ipython",
    "version": 3
   },
   "file_extension": ".py",
   "mimetype": "text/x-python",
   "name": "python",
   "nbconvert_exporter": "python",
   "pygments_lexer": "ipython3",
   "version": "3.10.6"
  }
 },
 "nbformat": 4,
 "nbformat_minor": 5
}
